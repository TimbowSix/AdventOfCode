{
 "cells": [
  {
   "cell_type": "code",
   "execution_count": 1,
   "metadata": {},
   "outputs": [
    {
     "name": "stdout",
     "output_type": "stream",
     "text": [
      "['2344671212', '6611742681', '5575575573', '3167848536', '1353827311', '4416463266', '2624761615', '1786561263', '3622643215', '4143284653']\n"
     ]
    }
   ],
   "source": [
    "from utils import getFile\n",
    "\n",
    "file = getFile(\"input11.txt\")\n",
    "\n",
    "print(file)"
   ]
  },
  {
   "cell_type": "code",
   "execution_count": 5,
   "metadata": {},
   "outputs": [
    {
     "name": "stdout",
     "output_type": "stream",
     "text": [
      "1729\n"
     ]
    }
   ],
   "source": [
    "matrix =  [list(row) for row in file]\n",
    "for row in matrix:\n",
    "    for ind, number in enumerate(row):\n",
    "        row[ind] = int(number)\n",
    "\n",
    "#print(matrix)\n",
    "\n",
    "flashCount = 0\n",
    "def flash(row_ind, col_ind):\n",
    "    global matrix, flashCount\n",
    "    flashCount += 1\n",
    "    matrix[row_ind][col_ind] = 0\n",
    "    flashed.append((row_ind, col_ind))\n",
    "    coords = ((row_ind, col_ind-1),(row_ind, col_ind+1),(row_ind-1, col_ind),(row_ind+1, col_ind),(row_ind+1, col_ind+1),(row_ind-1, col_ind+1),(row_ind+1, col_ind-1),(row_ind-1, col_ind-1))\n",
    "    for r, c in coords:\n",
    "        if r < 0 or  c < 0:\n",
    "            continue\n",
    "        try:\n",
    "            if (r,c) not in flashed:\n",
    "                matrix[r][c] += 1\n",
    "                if matrix[r][c] > 9:\n",
    "                    flash(r, c)\n",
    "        except IndexError:\n",
    "            continue\n",
    "\n",
    "\n",
    "\n",
    "for i in range(100):\n",
    "    flashed = []\n",
    "    for row_ind, row in enumerate(matrix):\n",
    "        for col_ind, number in enumerate(row):\n",
    "            if (row_ind, col_ind) in flashed:\n",
    "                continue\n",
    "            matrix[row_ind][col_ind] += 1\n",
    "            if matrix[row_ind][col_ind] >= 10:\n",
    "                flash(row_ind, col_ind)\n",
    "\n",
    "print(flashCount)"
   ]
  },
  {
   "cell_type": "code",
   "execution_count": 6,
   "metadata": {},
   "outputs": [
    {
     "name": "stdout",
     "output_type": "stream",
     "text": [
      "3912\n",
      "237\n"
     ]
    }
   ],
   "source": [
    "matrix =  [list(row) for row in file]\n",
    "for row in matrix:\n",
    "    for ind, number in enumerate(row):\n",
    "        row[ind] = int(number)\n",
    "\n",
    "#print(matrix)\n",
    "\n",
    "flashCount = 0\n",
    "def flash(row_ind, col_ind):\n",
    "    global matrix, flashCount\n",
    "    flashCount += 1\n",
    "    matrix[row_ind][col_ind] = 0\n",
    "    flashed.append((row_ind, col_ind))\n",
    "    coords = ((row_ind, col_ind-1),(row_ind, col_ind+1),(row_ind-1, col_ind),(row_ind+1, col_ind),(row_ind+1, col_ind+1),(row_ind-1, col_ind+1),(row_ind+1, col_ind-1),(row_ind-1, col_ind-1))\n",
    "    for r, c in coords:\n",
    "        if r < 0 or  c < 0:\n",
    "            continue\n",
    "        try:\n",
    "            if (r,c) not in flashed:\n",
    "                matrix[r][c] += 1\n",
    "                if matrix[r][c] > 9:\n",
    "                    flash(r, c)\n",
    "        except IndexError:\n",
    "            continue\n",
    "\n",
    "\n",
    "i = 0\n",
    "while not all([True if sum(row)== 0 else False for row in matrix]):\n",
    "    i += 1\n",
    "    flashed = []\n",
    "    for row_ind, row in enumerate(matrix):\n",
    "        for col_ind, number in enumerate(row):\n",
    "            if (row_ind, col_ind) in flashed:\n",
    "                continue\n",
    "            matrix[row_ind][col_ind] += 1\n",
    "            if matrix[row_ind][col_ind] >= 10:\n",
    "                flash(row_ind, col_ind)\n",
    "\n",
    "print(flashCount)\n",
    "print(i)"
   ]
  }
 ],
 "metadata": {
  "interpreter": {
   "hash": "24fd9af36ba45572b61bfbb845d12003a4380c574d58b3e71e127f2f0d7d6c1f"
  },
  "kernelspec": {
   "display_name": "Python 3.9.5 64-bit",
   "language": "python",
   "name": "python3"
  },
  "language_info": {
   "codemirror_mode": {
    "name": "ipython",
    "version": 3
   },
   "file_extension": ".py",
   "mimetype": "text/x-python",
   "name": "python",
   "nbconvert_exporter": "python",
   "pygments_lexer": "ipython3",
   "version": "3.9.5"
  },
  "orig_nbformat": 4
 },
 "nbformat": 4,
 "nbformat_minor": 2
}
