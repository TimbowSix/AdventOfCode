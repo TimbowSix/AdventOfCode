{
 "cells": [
  {
   "cell_type": "code",
   "execution_count": 1,
   "metadata": {},
   "outputs": [],
   "source": [
    "with open(\"input03.txt\", \"r\") as f:\n",
    "    file = f.read().splitlines()\n",
    "\n",
    "#print(file)"
   ]
  },
  {
   "cell_type": "code",
   "execution_count": 2,
   "metadata": {},
   "outputs": [],
   "source": [
    "def binaryToDecimal(binList):\n",
    "    \"\"\"Takes an iterable of 0 and 1 and converts it into decimal Number\"\"\"\n",
    "    sum = 0\n",
    "    exp = len(binList)-1\n",
    "    for bin in binList:\n",
    "        bin = int(bin)\n",
    "        # print(bin, exp, 2**exp, bin*2**exp)\n",
    "        sum += bin*2**exp\n",
    "        exp -= 1\n",
    "    return sum\n",
    "\n",
    "def switchRowsCols(arr):\n",
    "    cols = []\n",
    "    for i in range(len(arr[0])):\n",
    "        col = []\n",
    "        for row in arr:\n",
    "            col.append(int(row[i]))\n",
    "        cols.append(col)\n",
    "    return cols"
   ]
  },
  {
   "cell_type": "code",
   "execution_count": 3,
   "metadata": {},
   "outputs": [
    {
     "name": "stdout",
     "output_type": "stream",
     "text": [
      "3529 566 1997414\n"
     ]
    }
   ],
   "source": [
    "def calcGammaEpsilon(file):\n",
    "    cols = switchRowsCols(file)\n",
    "    gamma = []\n",
    "    epsilon = []\n",
    "    for col in cols:\n",
    "        if sum(col) >= len(col)/2:\n",
    "            gamma.append(1)\n",
    "            epsilon.append(0)\n",
    "        else:\n",
    "            gamma.append(0)\n",
    "            epsilon.append(1)\n",
    "    return gamma, epsilon\n",
    "\n",
    "def binaryToDecimal(binList):\n",
    "    sum = 0\n",
    "    exp = len(binList)-1\n",
    "    for bin in binList:\n",
    "        bin = int(bin)\n",
    "        # print(bin, exp, 2**exp, bin*2**exp)\n",
    "        sum += bin*2**exp\n",
    "        exp -= 1\n",
    "    return sum\n",
    "\n",
    "gamma, epsilon = calcGammaEpsilon(file)\n",
    "gamma = binaryToDecimal(gamma)\n",
    "epsilon = binaryToDecimal(epsilon)\n",
    "print(gamma, epsilon, gamma*epsilon)"
   ]
  },
  {
   "cell_type": "code",
   "execution_count": 4,
   "metadata": {},
   "outputs": [
    {
     "name": "stdout",
     "output_type": "stream",
     "text": [
      "3573 289 1032597\n"
     ]
    }
   ],
   "source": [
    "def countColBits(arr, col):\n",
    "    countPos = 0\n",
    "    countNeg = 0\n",
    "    arr = switchRowsCols(arr)\n",
    "    for i in arr[col]:\n",
    "        if i == 1:\n",
    "            countPos+=1\n",
    "        elif i == 0:\n",
    "            countNeg+=1\n",
    "    return countPos, countNeg\n",
    "\n",
    "\n",
    "def filter(arr, sameKeep=1, least=False):\n",
    "    arr = arr[:]\n",
    "    col_ind = 0\n",
    "    while len(arr) > 1:\n",
    "        newArr = []\n",
    "        ones, zeros = countColBits(arr, col_ind)\n",
    "        if ones == zeros:\n",
    "            keep = sameKeep\n",
    "        elif least and ones>zeros:\n",
    "            keep = 0\n",
    "        elif least and zeros>ones:\n",
    "            keep = 1\n",
    "        elif ones > zeros:\n",
    "            keep = 1\n",
    "        else:\n",
    "            keep = 0\n",
    "\n",
    "        for ind_i, i in enumerate(arr):\n",
    "            if int(i[col_ind]) == keep:\n",
    "                newArr.append(i)\n",
    "        arr = newArr[:]\n",
    "        col_ind += 1\n",
    "\n",
    "    return arr #[0]\n",
    "\n",
    "oxy = filter(file)[0]\n",
    "o2 = filter(file, sameKeep=0, least=True)[0]\n",
    "oxy = binaryToDecimal(oxy)\n",
    "o2 = binaryToDecimal(o2)\n",
    "print(oxy, o2, oxy*o2)\n"
   ]
  }
 ],
 "metadata": {
  "interpreter": {
   "hash": "24fd9af36ba45572b61bfbb845d12003a4380c574d58b3e71e127f2f0d7d6c1f"
  },
  "kernelspec": {
   "display_name": "Python 3.9.5 64-bit",
   "language": "python",
   "name": "python3"
  },
  "language_info": {
   "codemirror_mode": {
    "name": "ipython",
    "version": 3
   },
   "file_extension": ".py",
   "mimetype": "text/x-python",
   "name": "python",
   "nbconvert_exporter": "python",
   "pygments_lexer": "ipython3",
   "version": "3.9.5"
  },
  "orig_nbformat": 4
 },
 "nbformat": 4,
 "nbformat_minor": 2
}
