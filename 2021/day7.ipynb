{
 "cells": [
  {
   "cell_type": "code",
   "execution_count": null,
   "metadata": {},
   "outputs": [],
   "source": [
    "from utils import getFile\n",
    "\n",
    "file = getFile(\"input07.txt\")\n",
    "\n",
    "file = file.split(\",\")\n",
    "file = [int(i) for i in file]\n",
    "\n",
    "print(file)"
   ]
  },
  {
   "cell_type": "code",
   "execution_count": 10,
   "metadata": {},
   "outputs": [
    {
     "name": "stdout",
     "output_type": "stream",
     "text": [
      "343468\n"
     ]
    }
   ],
   "source": [
    "import collections\n",
    "\n",
    "crabs = collections.Counter(file)\n",
    "highestX = max(file)\n",
    "\n",
    "least_fuel = None\n",
    "for i in range(highestX):\n",
    "    fuel = 0\n",
    "    for key, value in crabs.items():\n",
    "        fuel += abs(i-key)*value\n",
    "    if least_fuel is None:\n",
    "        least_fuel = fuel\n",
    "    elif fuel < least_fuel:\n",
    "        least_fuel = fuel\n",
    "\n",
    "\n",
    "print(least_fuel)\n",
    "\n"
   ]
  },
  {
   "cell_type": "code",
   "execution_count": 14,
   "metadata": {},
   "outputs": [
    {
     "name": "stdout",
     "output_type": "stream",
     "text": [
      "96086265\n"
     ]
    }
   ],
   "source": [
    "import collections\n",
    "\n",
    "crabs = collections.Counter(file)\n",
    "highestX = max(file)\n",
    "\n",
    "least_fuel = None\n",
    "for i in range(highestX):\n",
    "    fuel = 0\n",
    "    for key, value in crabs.items():\n",
    "        steps = abs(i-key)\n",
    "        fuel += (steps*(steps+1)/2)*value\n",
    "    if least_fuel is None:\n",
    "        least_fuel = fuel\n",
    "    elif fuel < least_fuel:\n",
    "        least_fuel = fuel\n",
    "\n",
    "\n",
    "print(int(least_fuel))"
   ]
  }
 ],
 "metadata": {
  "interpreter": {
   "hash": "24fd9af36ba45572b61bfbb845d12003a4380c574d58b3e71e127f2f0d7d6c1f"
  },
  "kernelspec": {
   "display_name": "Python 3.9.5 64-bit",
   "language": "python",
   "name": "python3"
  },
  "language_info": {
   "codemirror_mode": {
    "name": "ipython",
    "version": 3
   },
   "file_extension": ".py",
   "mimetype": "text/x-python",
   "name": "python",
   "nbconvert_exporter": "python",
   "pygments_lexer": "ipython3",
   "version": "3.9.5"
  },
  "orig_nbformat": 4
 },
 "nbformat": 4,
 "nbformat_minor": 2
}
