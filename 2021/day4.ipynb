{
 "cells": [
  {
   "cell_type": "code",
   "execution_count": 3,
   "metadata": {},
   "outputs": [],
   "source": [
    "with open(\"input04.txt\", \"r\") as f:\n",
    "    file = f.read().splitlines()\n",
    "\n",
    "#print(file)"
   ]
  },
  {
   "cell_type": "code",
   "execution_count": 4,
   "metadata": {},
   "outputs": [],
   "source": [
    "from utils import switchRowsCols\n",
    "\n",
    "\n",
    "class Bingo:\n",
    "    def __init__(self, bingoArr):\n",
    "        self.bingoArr = bingoArr\n",
    "        self.bingoArrBool = [[False for i in range(len(bingoArr[0]))] for j in range(len(bingoArr))]\n",
    "        self.numbers = {}\n",
    "        for row_ind, row in enumerate(self.bingoArr):\n",
    "            for number_ind, number in enumerate(row):\n",
    "                self.numbers[number] = (row_ind, number_ind)\n",
    "\n",
    "        self.score = sum([int(i) for i in self.numbers])\n",
    "\n",
    "    def markNumber(self, number):\n",
    "        if number not in self.numbers:\n",
    "            return\n",
    "        row_ind = self.numbers[number][0]\n",
    "        number_ind = self.numbers[number][1]\n",
    "        self.bingoArrBool[row_ind][number_ind] = True\n",
    "        self.score -= int(number)\n",
    "\n",
    "    def checkBingo(self):\n",
    "        for row_ind, row in enumerate(self.bingoArrBool):\n",
    "            if all(row):\n",
    "                return self.score\n",
    "        for col_ind, col in enumerate(switchRowsCols(self.bingoArrBool)):\n",
    "            if all(col):\n",
    "                return self.score\n",
    "        return False"
   ]
  },
  {
   "cell_type": "code",
   "execution_count": 5,
   "metadata": {},
   "outputs": [
    {
     "name": "stdout",
     "output_type": "stream",
     "text": [
      "794 42 33348\n"
     ]
    }
   ],
   "source": [
    "numbers = file[0].split(\",\")\n",
    "allBingos = []\n",
    "bingo = []\n",
    "for l_ind, line in enumerate(file):\n",
    "    if l_ind < 2:\n",
    "        continue\n",
    "    if line == \"\":\n",
    "        allBingos.append(Bingo(bingo))\n",
    "        bingo = []\n",
    "    else:\n",
    "        bingo.append(line.split())\n",
    "allBingos.append(Bingo(bingo))\n",
    "\n",
    "for number in numbers:\n",
    "    lastNumber = int(number)\n",
    "    for bingo in allBingos:\n",
    "        bingo.markNumber(number)\n",
    "    win = False\n",
    "    for bingo in allBingos:\n",
    "        win = bingo.checkBingo()\n",
    "        if win:\n",
    "            break\n",
    "    if win:\n",
    "        break\n",
    "\n",
    "\n",
    "print(win, lastNumber, win*lastNumber)\n"
   ]
  },
  {
   "cell_type": "code",
   "execution_count": 12,
   "metadata": {},
   "outputs": [
    {
     "name": "stdout",
     "output_type": "stream",
     "text": [
      "(208, 39) 8112\n"
     ]
    }
   ],
   "source": [
    "numbers = file[0].split(\",\")\n",
    "allBingos = []\n",
    "bingo = []\n",
    "for l_ind, line in enumerate(file):\n",
    "    if l_ind < 2:\n",
    "        continue\n",
    "    if line == \"\":\n",
    "        allBingos.append(Bingo(bingo))\n",
    "        bingo = []\n",
    "    else:\n",
    "        bingo.append(line.split())\n",
    "allBingos.append(Bingo(bingo))\n",
    "\n",
    "\n",
    "winnersScores = [] # [(score, lastNumber)]\n",
    "winners = []\n",
    "\n",
    "for number in numbers:\n",
    "    lastNumber = int(number)\n",
    "    for bingo in allBingos:\n",
    "        bingo.markNumber(number)\n",
    "    for bingo in allBingos:\n",
    "        win = False\n",
    "        if bingo in winners:\n",
    "            continue\n",
    "        win = bingo.checkBingo()\n",
    "        if win:\n",
    "            winnersScores.append((win, lastNumber))\n",
    "            winners.append(bingo)\n",
    "\n",
    "print(winnersScores[-1], winnersScores[-1][0]*winnersScores[-1][1])"
   ]
  }
 ],
 "metadata": {
  "interpreter": {
   "hash": "24fd9af36ba45572b61bfbb845d12003a4380c574d58b3e71e127f2f0d7d6c1f"
  },
  "kernelspec": {
   "display_name": "Python 3.9.5 64-bit",
   "language": "python",
   "name": "python3"
  },
  "language_info": {
   "codemirror_mode": {
    "name": "ipython",
    "version": 3
   },
   "file_extension": ".py",
   "mimetype": "text/x-python",
   "name": "python",
   "nbconvert_exporter": "python",
   "pygments_lexer": "ipython3",
   "version": "3.9.5"
  },
  "orig_nbformat": 4
 },
 "nbformat": 4,
 "nbformat_minor": 2
}
