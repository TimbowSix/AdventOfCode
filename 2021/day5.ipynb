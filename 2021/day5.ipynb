{
 "cells": [
  {
   "cell_type": "code",
   "execution_count": 4,
   "metadata": {},
   "outputs": [],
   "source": [
    "with open(\"input05.txt\", \"r\") as f:\n",
    "    file = f.read().splitlines()\n",
    "\n",
    "#print(file)"
   ]
  },
  {
   "cell_type": "code",
   "execution_count": 26,
   "metadata": {},
   "outputs": [
    {
     "name": "stdout",
     "output_type": "stream",
     "text": [
      "6710\n"
     ]
    }
   ],
   "source": [
    "coordPairs = []\n",
    "biggestY = 0\n",
    "biggestX = 0\n",
    "for l in file:\n",
    "    p1, p2 = l.split(\" -> \")\n",
    "    #print(p1, p2)\n",
    "    x1, y1 = [int(num) for num in p1.split(\",\")]\n",
    "    x2, y2 = [int(num) for num in p2.split(\",\")]\n",
    "    #print(x1, y1, x2, y2)\n",
    "    if x1 == x2 or y1 == y2:\n",
    "        if max([x1,x2])> biggestX:\n",
    "            biggestX = max([x1,x2])\n",
    "        if max([y1,y2])> biggestY:\n",
    "            biggestY = max([y1,y2])\n",
    "        coordPairs.append(((x1,y1),(x2,y2)))\n",
    "\n",
    "grid = [[0 for i in range(biggestX+1)] for x in range(biggestY+1)]\n",
    "#print(grid)\n",
    "#print(len(grid), len(grid[0]))\n",
    "\n",
    "for pair in coordPairs:\n",
    "    x1 = pair[0][0]\n",
    "    x2 = pair[1][0]\n",
    "    y1 = pair[0][1]\n",
    "    y2 = pair[1][1]\n",
    "    if x1 == x2:\n",
    "        miny = min([y1,y2])\n",
    "        maxy = max([y1,y2])\n",
    "        while miny != maxy+1:\n",
    "            #print(miny, x1)\n",
    "            grid[miny][x1] += 1\n",
    "            miny += 1\n",
    "    elif y1 == y2:\n",
    "        minx = min([x1,x2])\n",
    "        maxx = max([x1,x2])\n",
    "        while minx != maxx+1:\n",
    "            grid[y1][minx] += 1\n",
    "            minx += 1\n",
    "\n",
    "overlap = 0\n",
    "for line in grid:\n",
    "    for col in line:\n",
    "        if col >= 2:\n",
    "            overlap+= 1\n",
    "\n",
    "print(overlap)"
   ]
  },
  {
   "cell_type": "code",
   "execution_count": 42,
   "metadata": {},
   "outputs": [
    {
     "name": "stdout",
     "output_type": "stream",
     "text": [
      "20121\n"
     ]
    }
   ],
   "source": [
    "grid = [[0 for i in range(1000)]for n in range(1000)]\n",
    "\n",
    "for l in file:\n",
    "    p1, p2 = l.split(\" -> \")\n",
    "    #print(p1, p2)\n",
    "    x1, y1 = [int(num) for num in p1.split(\",\")]\n",
    "    x2, y2 = [int(num) for num in p2.split(\",\")]\n",
    "    # print(x1, y1, x2, y2)\n",
    "    while x1 != x2 or y1 != y2:\n",
    "        # print(x1, y1, x2, y2)\n",
    "        grid[y1][x1] += 1\n",
    "        if x1 > x2:\n",
    "            x1 -= 1\n",
    "        elif x1 < x2:\n",
    "            x1 += 1\n",
    "\n",
    "        if y1 > y2:\n",
    "            y1 -= 1\n",
    "        elif y1 < y2:\n",
    "            y1 += 1\n",
    "    grid[y1][x1] += 1\n",
    "\n",
    "overlap = 0\n",
    "for row in grid:\n",
    "    for col in row:\n",
    "        if col >= 2:\n",
    "            overlap += 1\n",
    "\n",
    "print(overlap)\n",
    "\n"
   ]
  }
 ],
 "metadata": {
  "interpreter": {
   "hash": "24fd9af36ba45572b61bfbb845d12003a4380c574d58b3e71e127f2f0d7d6c1f"
  },
  "kernelspec": {
   "display_name": "Python 3.9.5 64-bit",
   "language": "python",
   "name": "python3"
  },
  "language_info": {
   "codemirror_mode": {
    "name": "ipython",
    "version": 3
   },
   "file_extension": ".py",
   "mimetype": "text/x-python",
   "name": "python",
   "nbconvert_exporter": "python",
   "pygments_lexer": "ipython3",
   "version": "3.9.5"
  },
  "orig_nbformat": 4
 },
 "nbformat": 4,
 "nbformat_minor": 2
}
