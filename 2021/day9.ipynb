{
 "cells": [
  {
   "cell_type": "code",
   "execution_count": 5,
   "metadata": {},
   "outputs": [],
   "source": [
    "from utils import getFile\n",
    "\n",
    "file = getFile(\"input09.txt\")\n",
    "\n",
    "#print(file)"
   ]
  },
  {
   "cell_type": "code",
   "execution_count": 3,
   "metadata": {},
   "outputs": [
    {
     "name": "stdout",
     "output_type": "stream",
     "text": [
      "537\n"
     ]
    }
   ],
   "source": [
    "# l row, col-1 , r row, col +1 , u row-1, col, d row+1, col\n",
    "\n",
    "low_points = []\n",
    "for row_ind, row in enumerate(file):\n",
    "    for col_ind, number in enumerate(row):\n",
    "        coords = ((row_ind, col_ind-1) ,(row_ind, col_ind +1) , (row_ind-1, col_ind), (row_ind+1, col_ind))\n",
    "        isLowpoint = True\n",
    "        for r, c in coords:\n",
    "            if r < 0 or  c < 0:\n",
    "                continue\n",
    "            try:\n",
    "                if int(file[r][c]) <= int(number):\n",
    "                    isLowpoint = False\n",
    "                    break\n",
    "            except IndexError:\n",
    "                continue\n",
    "        if isLowpoint:\n",
    "            low_points.append(int(number))\n",
    "\n",
    "#print(low_points)\n",
    "print(sum(low_points)+len(low_points))"
   ]
  },
  {
   "cell_type": "code",
   "execution_count": 7,
   "metadata": {},
   "outputs": [
    {
     "name": "stdout",
     "output_type": "stream",
     "text": [
      "119 99 97 1142757\n"
     ]
    }
   ],
   "source": [
    "def countNearby(file, row, col):\n",
    "    global counted\n",
    "    coords = ((row, col-1) ,(row, col +1) , (row-1, col), (row+1, col))\n",
    "    nearby = 0\n",
    "    for r, c in coords:\n",
    "        if r < 0 or  c < 0:\n",
    "            continue\n",
    "        try:\n",
    "            if counted[r][c] == \"#\":\n",
    "                continue\n",
    "            if file[r][c] != \"9\":\n",
    "                nearby += 1\n",
    "                counted[r][c] = \"#\"\n",
    "                nearby += countNearby(file, r, c)\n",
    "        except IndexError:\n",
    "            continue\n",
    "    return nearby\n",
    "\n",
    "counted = [list(row) for row in file]\n",
    "\n",
    "clusters = []\n",
    "\n",
    "for row_ind, row in enumerate(file):\n",
    "    for col_ind, number in enumerate(row):\n",
    "        if number != \"9\" and counted[row_ind][col_ind] != \"#\":\n",
    "            clusters.append(countNearby(file, row_ind, col_ind))\n",
    "\n",
    "# print(clusters)\n",
    "first = max(clusters)\n",
    "clusters.remove(first)\n",
    "second = max(clusters)\n",
    "clusters.remove(second)\n",
    "third = max(clusters)\n",
    "\n",
    "print(first, second, third, first*second*third)\n"
   ]
  }
 ],
 "metadata": {
  "interpreter": {
   "hash": "24fd9af36ba45572b61bfbb845d12003a4380c574d58b3e71e127f2f0d7d6c1f"
  },
  "kernelspec": {
   "display_name": "Python 3.9.5 64-bit",
   "language": "python",
   "name": "python3"
  },
  "language_info": {
   "codemirror_mode": {
    "name": "ipython",
    "version": 3
   },
   "file_extension": ".py",
   "mimetype": "text/x-python",
   "name": "python",
   "nbconvert_exporter": "python",
   "pygments_lexer": "ipython3",
   "version": "3.9.5"
  },
  "orig_nbformat": 4
 },
 "nbformat": 4,
 "nbformat_minor": 2
}
