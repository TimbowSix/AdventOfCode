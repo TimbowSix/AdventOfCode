{
 "cells": [
  {
   "cell_type": "code",
   "execution_count": 10,
   "metadata": {},
   "outputs": [],
   "source": [
    "with open(\"input02.txt\", \"r\") as f:\n",
    "    file = f.read().split(\"\\n\")\n",
    "\n",
    "file = [x for x in file if x != \"\"]\n",
    "#print(file)"
   ]
  },
  {
   "cell_type": "code",
   "execution_count": 8,
   "metadata": {},
   "outputs": [
    {
     "data": {
      "text/plain": [
       "1893605"
      ]
     },
     "execution_count": 8,
     "metadata": {},
     "output_type": "execute_result"
    }
   ],
   "source": [
    "def calcPosition(moveList):\n",
    "    depth = 0\n",
    "    vPos = 0\n",
    "    for i in moveList:\n",
    "        command, count = i.split()\n",
    "        count = int(count)\n",
    "        if command == \"forward\":\n",
    "            vPos += count\n",
    "        elif command == \"down\":\n",
    "            depth += count\n",
    "        elif command == \"up\":\n",
    "            depth -= count\n",
    "\n",
    "    return depth*vPos\n",
    "\n",
    "calcPosition(file)"
   ]
  },
  {
   "cell_type": "code",
   "execution_count": 15,
   "metadata": {},
   "outputs": [
    {
     "data": {
      "text/plain": [
       "1893605"
      ]
     },
     "execution_count": 15,
     "metadata": {},
     "output_type": "execute_result"
    }
   ],
   "source": [
    "def calcPosition(moveList):\n",
    "    return sum([int(i.split()[-1]) for i in moveList if i.split()[0]==\"forward\"])*(sum([int(i.split()[-1]) for i in moveList if i.split()[0]==\"down\"])-sum([int(i.split()[-1]) for i in moveList if i.split()[0]==\"up\"]))\n",
    "\n",
    "calcPosition(file)"
   ]
  },
  {
   "cell_type": "code",
   "execution_count": 7,
   "metadata": {},
   "outputs": [
    {
     "data": {
      "text/plain": [
       "2120734350"
      ]
     },
     "execution_count": 7,
     "metadata": {},
     "output_type": "execute_result"
    }
   ],
   "source": [
    "def calcPosition(moveList):\n",
    "    depth = 0\n",
    "    vPos = 0\n",
    "    aim = 0\n",
    "    for i in moveList:\n",
    "        command, count = i.split()\n",
    "        count = int(count)\n",
    "        if command == \"forward\":\n",
    "            vPos += count\n",
    "            depth += aim*count\n",
    "        elif command == \"down\":\n",
    "            aim += count\n",
    "        elif command == \"up\":\n",
    "            aim -= count\n",
    "\n",
    "    return depth*vPos\n",
    "\n",
    "calcPosition(file)"
   ]
  }
 ],
 "metadata": {
  "interpreter": {
   "hash": "24fd9af36ba45572b61bfbb845d12003a4380c574d58b3e71e127f2f0d7d6c1f"
  },
  "kernelspec": {
   "display_name": "Python 3.9.5 64-bit",
   "language": "python",
   "name": "python3"
  },
  "language_info": {
   "codemirror_mode": {
    "name": "ipython",
    "version": 3
   },
   "file_extension": ".py",
   "mimetype": "text/x-python",
   "name": "python",
   "nbconvert_exporter": "python",
   "pygments_lexer": "ipython3",
   "version": "3.9.5"
  },
  "orig_nbformat": 4
 },
 "nbformat": 4,
 "nbformat_minor": 2
}
