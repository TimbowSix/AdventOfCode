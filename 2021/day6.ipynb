{
 "cells": [
  {
   "cell_type": "code",
   "execution_count": 2,
   "metadata": {},
   "outputs": [
    {
     "name": "stdout",
     "output_type": "stream",
     "text": [
      "[3, 5, 1, 2, 5, 4, 1, 5, 1, 2, 5, 5, 1, 3, 1, 5, 1, 3, 2, 1, 5, 1, 1, 1, 2, 3, 1, 3, 1, 2, 1, 1, 5, 1, 5, 4, 5, 5, 3, 3, 1, 5, 1, 1, 5, 5, 1, 3, 5, 5, 3, 2, 2, 4, 1, 5, 3, 4, 2, 5, 4, 1, 2, 2, 5, 1, 1, 2, 4, 4, 1, 3, 1, 3, 1, 1, 2, 2, 1, 1, 5, 1, 1, 4, 4, 5, 5, 1, 2, 1, 4, 1, 1, 4, 4, 3, 4, 2, 2, 3, 3, 2, 1, 3, 3, 2, 1, 1, 1, 2, 1, 4, 2, 2, 1, 5, 5, 3, 4, 5, 5, 2, 5, 2, 2, 5, 3, 3, 1, 2, 4, 2, 1, 5, 1, 1, 2, 3, 5, 5, 1, 1, 5, 5, 1, 4, 5, 3, 5, 2, 3, 2, 4, 3, 1, 4, 2, 5, 1, 3, 2, 1, 1, 3, 4, 2, 1, 1, 1, 1, 2, 1, 4, 3, 1, 3, 1, 2, 4, 1, 2, 4, 3, 2, 3, 5, 5, 3, 3, 1, 2, 3, 4, 5, 2, 4, 5, 1, 1, 1, 4, 5, 3, 5, 3, 5, 1, 1, 5, 1, 5, 3, 1, 2, 3, 4, 1, 1, 4, 1, 2, 4, 1, 5, 4, 1, 5, 4, 2, 1, 5, 2, 1, 3, 5, 5, 4, 5, 5, 1, 1, 4, 1, 2, 3, 5, 3, 3, 1, 1, 1, 4, 3, 1, 1, 4, 1, 5, 3, 5, 1, 4, 2, 5, 1, 1, 4, 4, 4, 2, 5, 1, 2, 5, 2, 1, 3, 1, 5, 1, 2, 1, 1, 5, 2, 4, 2, 1, 3, 5, 5, 4, 1, 1, 1, 5, 5, 2, 1, 1]\n"
     ]
    }
   ],
   "source": [
    "def getFile(path):\n",
    "    with open(\"input06.txt\", \"r\") as f:\n",
    "        file = f.read().splitlines()[0].split(\",\")\n",
    "    return file\n",
    "\n",
    "file = [int(i) for i in file]\n",
    "print(file)"
   ]
  },
  {
   "cell_type": "code",
   "execution_count": 8,
   "metadata": {},
   "outputs": [
    {
     "name": "stdout",
     "output_type": "stream",
     "text": [
      "354564\n"
     ]
    }
   ],
   "source": [
    "fishes = file[:]\n",
    "newFish = []\n",
    "\n",
    "for i in range(80):\n",
    "    for fish in fishes:\n",
    "        if fish == 0:\n",
    "            newFish.append(6)\n",
    "            newFish.append(8)\n",
    "        else:\n",
    "            fish -= 1\n",
    "            newFish.append(fish)\n",
    "    fishes = newFish[:]\n",
    "    newFish = []\n",
    "\n",
    "print(len(fishes))\n"
   ]
  },
  {
   "cell_type": "code",
   "execution_count": 3,
   "metadata": {},
   "outputs": [
    {
     "name": "stdout",
     "output_type": "stream",
     "text": [
      "1609058859115\n"
     ]
    }
   ],
   "source": [
    "fishes = {0:0, 1:0, 2:0, 3:0, 4:0, 5:0, 6:0, 7:0, 8:0}\n",
    "\n",
    "for fish in file:\n",
    "    if fish in fishes:\n",
    "        fishes[fish] += 1\n",
    "    else:\n",
    "        fishes[fish] = 1\n",
    "\n",
    "#print(fishes)\n",
    "\n",
    "for i in range(256):\n",
    "    newFishes = 0\n",
    "    for key, value in fishes.items():\n",
    "        if key == 0:\n",
    "            newFish = value\n",
    "            fishes[0] = 0\n",
    "        else:\n",
    "            fishes[key-1] += value\n",
    "            fishes[key] = 0\n",
    "    fishes[6] += newFish\n",
    "    fishes[8] += newFish\n",
    "    newFish = 0\n",
    "\n",
    "print(sum(fishes.values()))"
   ]
  }
 ],
 "metadata": {
  "interpreter": {
   "hash": "24fd9af36ba45572b61bfbb845d12003a4380c574d58b3e71e127f2f0d7d6c1f"
  },
  "kernelspec": {
   "display_name": "Python 3.9.5 64-bit",
   "language": "python",
   "name": "python3"
  },
  "language_info": {
   "codemirror_mode": {
    "name": "ipython",
    "version": 3
   },
   "file_extension": ".py",
   "mimetype": "text/x-python",
   "name": "python",
   "nbconvert_exporter": "python",
   "pygments_lexer": "ipython3",
   "version": "3.9.5"
  },
  "orig_nbformat": 4
 },
 "nbformat": 4,
 "nbformat_minor": 2
}
