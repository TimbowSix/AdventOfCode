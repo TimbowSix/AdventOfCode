{
 "cells": [
  {
   "cell_type": "code",
   "execution_count": null,
   "metadata": {},
   "outputs": [],
   "source": [
    "from utils import getFile\n",
    "\n",
    "file = getFile(\"input10.txt\")\n",
    "\n",
    "print(file)"
   ]
  },
  {
   "cell_type": "code",
   "execution_count": 8,
   "metadata": {},
   "outputs": [
    {
     "name": "stdout",
     "output_type": "stream",
     "text": [
      "358737\n"
     ]
    }
   ],
   "source": [
    "score = 0\n",
    "for row_ind, row in enumerate(file):\n",
    "    #open brackets\n",
    "    next = []\n",
    "    for col_ind, bracket in enumerate(row):\n",
    "        if bracket == \"(\":\n",
    "            next.append(\")\")\n",
    "        elif bracket == \"[\":\n",
    "            next.append(\"]\")\n",
    "        elif bracket == \"{\":\n",
    "            next.append(\"}\")\n",
    "        elif bracket == \"<\":\n",
    "            next.append(\">\")\n",
    "\n",
    "        elif bracket != next[-1]:\n",
    "            if bracket == \")\":\n",
    "                score += 3\n",
    "            elif bracket == \"]\":\n",
    "                score += 57\n",
    "            elif bracket == \"}\":\n",
    "                score += 1197\n",
    "            elif bracket == \">\":\n",
    "                score += 25137\n",
    "            break\n",
    "        else:\n",
    "            next.pop(-1)\n",
    "\n",
    "print(score)\n"
   ]
  },
  {
   "cell_type": "code",
   "execution_count": 15,
   "metadata": {},
   "outputs": [
    {
     "name": "stdout",
     "output_type": "stream",
     "text": [
      "4329504793\n"
     ]
    }
   ],
   "source": [
    "scores = []\n",
    "for row_ind, row in enumerate(file):\n",
    "    #open brackets\n",
    "    next = []\n",
    "    for col_ind, bracket in enumerate(row):\n",
    "        if bracket == \"(\":\n",
    "            next.append(\")\")\n",
    "        elif bracket == \"[\":\n",
    "            next.append(\"]\")\n",
    "        elif bracket == \"{\":\n",
    "            next.append(\"}\")\n",
    "        elif bracket == \"<\":\n",
    "            next.append(\">\")\n",
    "\n",
    "        elif bracket != next[-1]:\n",
    "            break\n",
    "        else:\n",
    "            next.pop(-1)\n",
    "    else:\n",
    "        score = 0\n",
    "        for bracket in next[::-1]:\n",
    "            score *= 5\n",
    "            if bracket == \")\":\n",
    "                score +=1\n",
    "            elif bracket == \"]\":\n",
    "                score +=2\n",
    "            elif bracket == \"}\":\n",
    "                score +=3\n",
    "            elif bracket == \">\":\n",
    "                score +=4\n",
    "        scores.append(score)\n",
    "\n",
    "scores.sort()\n",
    "print(scores[len(scores)//2])\n",
    "\n",
    "\n"
   ]
  }
 ],
 "metadata": {
  "interpreter": {
   "hash": "24fd9af36ba45572b61bfbb845d12003a4380c574d58b3e71e127f2f0d7d6c1f"
  },
  "kernelspec": {
   "display_name": "Python 3.9.5 64-bit",
   "language": "python",
   "name": "python3"
  },
  "language_info": {
   "codemirror_mode": {
    "name": "ipython",
    "version": 3
   },
   "file_extension": ".py",
   "mimetype": "text/x-python",
   "name": "python",
   "nbconvert_exporter": "python",
   "pygments_lexer": "ipython3",
   "version": "3.9.5"
  },
  "orig_nbformat": 4
 },
 "nbformat": 4,
 "nbformat_minor": 2
}
