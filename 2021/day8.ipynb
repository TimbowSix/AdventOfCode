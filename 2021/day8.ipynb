{
 "cells": [
  {
   "cell_type": "code",
   "execution_count": 6,
   "metadata": {},
   "outputs": [],
   "source": [
    "from utils import getFile\n",
    "\n",
    "file = getFile(\"input08.txt\")"
   ]
  },
  {
   "cell_type": "code",
   "execution_count": 6,
   "metadata": {},
   "outputs": [
    {
     "name": "stdout",
     "output_type": "stream",
     "text": [
      "392\n"
     ]
    }
   ],
   "source": [
    "counter = 0\n",
    "for line in file:\n",
    "    output = line.split(\" | \")[1].split(\" \")\n",
    "    for digit in output:\n",
    "        if len(digit) in (2,3,4,7):\n",
    "            counter+= 1\n",
    "\n",
    "print(counter)"
   ]
  },
  {
   "cell_type": "code",
   "execution_count": 7,
   "metadata": {},
   "outputs": [
    {
     "name": "stdout",
     "output_type": "stream",
     "text": [
      "1004688\n"
     ]
    }
   ],
   "source": [
    "digits_len = {0:6, 1:2, 2:5, 3:5, 4:4, 5:5, 6:6, 7:3, 8:7, 9:6}\n",
    "# identifizierbar : 1,4,7,8\n",
    "# gleige länge 5: 2,3,5 - 6: 0,6,9\n",
    "# 3 enthält beide 1er segmente -> von 2,3,5 als einziger\n",
    "# identifizierbar : 1,4,7,8,3 - 0,6,9 - 2, 5\n",
    "# 9 == 3 +1 elemnt -> Dieses element ist b\n",
    "# identifizierbar : 1,4,7,8,3,9 - 0,6 - 2, 5\n",
    "# 0 enthält 1 komplett, 6 nicht\n",
    "# identifizierbar : 1,4,7,8,3,9,0,6 - 2, 5\n",
    "# 5 == 9-1\n",
    "\n",
    "def sortString(in_str: str) -> str:\n",
    "    sorted_str = list(in_str)\n",
    "    sorted_str.sort()\n",
    "    sorted_str = \"\".join(sorted_str)\n",
    "    return sorted_str\n",
    "\n",
    "output_sum = 0\n",
    "\n",
    "for line in file:\n",
    "    pattern = line.split(\" | \")[0].split(\" \")\n",
    "    numbers = line.split(\" | \")[1].split(\" \")\n",
    "    identified = {} # {numb:pattern}\n",
    "    new_pat = pattern[:]\n",
    "    # find 1,4,7,8\n",
    "    for code in pattern:\n",
    "        if len(code) == 2:\n",
    "            identified[\"1\"] = sortString(code)\n",
    "            new_pat.pop(new_pat.index(code))\n",
    "        if len(code) == 3:\n",
    "            identified[\"7\"] = sortString(code)\n",
    "            new_pat.pop(new_pat.index(code))\n",
    "        if len(code) == 4:\n",
    "            identified[\"4\"] = sortString(code)\n",
    "            new_pat.pop(new_pat.index(code))\n",
    "        if len(code) == 7:\n",
    "            identified[\"8\"] = sortString(code)\n",
    "            new_pat.pop(new_pat.index(code))\n",
    "    # find 3\n",
    "    pattern = new_pat[:]\n",
    "    for code in pattern:\n",
    "        if len(code) == 5:\n",
    "            if identified[\"1\"][0] in code and identified[\"1\"][1] in code:\n",
    "                identified[\"3\"] = sortString(code)\n",
    "                new_pat.pop(new_pat.index(code))\n",
    "    # find 9\n",
    "    pattern = new_pat[:]\n",
    "    for code in pattern:\n",
    "        if len(code) == 6:\n",
    "            diff = 0\n",
    "            for c in code:\n",
    "                if c not in identified[\"3\"]:\n",
    "                    diff += 1\n",
    "            if diff == 1:\n",
    "                identified[\"9\"] = sortString(code)\n",
    "                new_pat.pop(new_pat.index(code))\n",
    "    #find 0, 6\n",
    "    pattern = new_pat[:]\n",
    "    for code in pattern:\n",
    "        if len(code) == 6:\n",
    "            if identified[\"1\"][0] in code and identified[\"1\"][1] in code:\n",
    "                identified[\"0\"] = sortString(code)\n",
    "                new_pat.pop(new_pat.index(code))\n",
    "            else:\n",
    "                identified[\"6\"] = sortString(code)\n",
    "                new_pat.pop(new_pat.index(code))\n",
    "    #find 2, 5\n",
    "    pattern = new_pat[:]\n",
    "    for code in pattern:\n",
    "        diff = 0\n",
    "        for c in identified[\"9\"]:\n",
    "            if c not in code:\n",
    "                diff += 1\n",
    "        if diff == 1:\n",
    "            identified[\"5\"] = sortString(code)\n",
    "        if diff == 2:\n",
    "            identified[\"2\"] = sortString(code)\n",
    "\n",
    "    # print(identified)\n",
    "    strNumber = \"\"\n",
    "    for number in numbers:\n",
    "        encoded = sortString(number)\n",
    "        for number, code in identified.items():\n",
    "            if code == encoded:\n",
    "                strNumber += number\n",
    "    output_sum += int(strNumber)\n",
    "\n",
    "print(output_sum)\n"
   ]
  }
 ],
 "metadata": {
  "kernelspec": {
   "display_name": "Python 3.10.5 64-bit",
   "language": "python",
   "name": "python3"
  },
  "language_info": {
   "codemirror_mode": {
    "name": "ipython",
    "version": 3
   },
   "file_extension": ".py",
   "mimetype": "text/x-python",
   "name": "python",
   "nbconvert_exporter": "python",
   "pygments_lexer": "ipython3",
   "version": "3.10.5"
  },
  "orig_nbformat": 4,
  "vscode": {
   "interpreter": {
    "hash": "551231531f899c79f1e96a61bbd146bb460066b40b37baa34efbcbe9faaca3da"
   }
  }
 },
 "nbformat": 4,
 "nbformat_minor": 2
}
