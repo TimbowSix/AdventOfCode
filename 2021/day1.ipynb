{
 "cells": [
  {
   "cell_type": "code",
   "execution_count": null,
   "metadata": {},
   "outputs": [],
   "source": [
    "with open(\"input01.txt\", \"r\") as f:\n",
    "    file = f.read().splitlines()\n",
    "\n",
    "print(file)"
   ]
  },
  {
   "cell_type": "code",
   "execution_count": 10,
   "metadata": {},
   "outputs": [
    {
     "name": "stdout",
     "output_type": "stream",
     "text": [
      "1288\n"
     ]
    }
   ],
   "source": [
    "def countIncreases(numList):\n",
    "    count = 0\n",
    "    lastValue = numList[0]\n",
    "    for num in numList:\n",
    "        if num> lastValue:\n",
    "            count+=1\n",
    "        lastValue = num\n",
    "    return count\n",
    "\n",
    "print(countIncreases(file))\n"
   ]
  },
  {
   "cell_type": "code",
   "execution_count": 4,
   "metadata": {},
   "outputs": [
    {
     "data": {
      "text/plain": [
       "1311"
      ]
     },
     "execution_count": 4,
     "metadata": {},
     "output_type": "execute_result"
    }
   ],
   "source": [
    "def countSumIncreases(numList):\n",
    "    last = []\n",
    "    count = 0\n",
    "    for ind, num in enumerate(numList):\n",
    "        if ind > 2:\n",
    "            if (last[1]+last[2]+num) > sum(last):\n",
    "                count+=1\n",
    "            last.pop(0)\n",
    "            last.append(num)\n",
    "        else:\n",
    "            last.append(num)\n",
    "\n",
    "    return count\n",
    "\n",
    "countSumIncreases(file)"
   ]
  }
 ],
 "metadata": {
  "interpreter": {
   "hash": "24fd9af36ba45572b61bfbb845d12003a4380c574d58b3e71e127f2f0d7d6c1f"
  },
  "kernelspec": {
   "display_name": "Python 3.9.5 64-bit",
   "language": "python",
   "name": "python3"
  },
  "language_info": {
   "codemirror_mode": {
    "name": "ipython",
    "version": 3
   },
   "file_extension": ".py",
   "mimetype": "text/x-python",
   "name": "python",
   "nbconvert_exporter": "python",
   "pygments_lexer": "ipython3",
   "version": "3.9.5"
  },
  "orig_nbformat": 4
 },
 "nbformat": 4,
 "nbformat_minor": 2
}
