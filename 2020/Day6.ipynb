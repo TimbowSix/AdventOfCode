{
 "cells": [
  {
   "cell_type": "code",
   "execution_count": 1,
   "metadata": {},
   "outputs": [
    {
     "name": "stdout",
     "output_type": "stream",
     "text": [
      "6903\n"
     ]
    }
   ],
   "source": [
    "with open(\"inputDay6.txt\") as f:\n",
    "    file=f.read().split(\"\\n\")\n",
    "#print(file)\n",
    "groupAnswers = []\n",
    "groupCount = []\n",
    "for i in file:\n",
    "    if i == \"\":\n",
    "        groupCount.append(len(groupAnswers))\n",
    "        groupAnswers = []\n",
    "    else:\n",
    "        for c in i:\n",
    "            if not c in groupAnswers:\n",
    "                groupAnswers.append(c)\n",
    "            \n",
    "#print(groupCount)\n",
    "print(sum(groupCount))"
   ]
  },
  {
   "cell_type": "code",
   "execution_count": 47,
   "metadata": {
    "scrolled": false
   },
   "outputs": [
    {
     "name": "stdout",
     "output_type": "stream",
     "text": [
      "{'o': 2, 'size': 2}\n",
      "3493\n"
     ]
    }
   ],
   "source": [
    "with open(\"inputDay6.txt\") as f:\n",
    "    file=f.read().split(\"\\n\")\n",
    "#print(lfile)\n",
    "groupAnswers = {}\n",
    "groups = []\n",
    "counter = 0\n",
    "for i in file:\n",
    "    if i == \"\":\n",
    "        groupAnswers[\"size\"]=counter\n",
    "        counter = 0\n",
    "        groups.append(groupAnswers)\n",
    "        groupAnswers = {}\n",
    "    else:\n",
    "        for c in i:\n",
    "            if c in groupAnswers:\n",
    "                groupAnswers[c]=groupAnswers[c]+1\n",
    "            else:\n",
    "                groupAnswers[c]=1\n",
    "        counter+=1\n",
    "            \n",
    "#print(groups[3])\n",
    "\n",
    "ans = []\n",
    "for i in groups:\n",
    "    counter = 0\n",
    "    for n in i:\n",
    "        if n != \"size\":\n",
    "            if i[n]==i[\"size\"]:\n",
    "                counter+=1\n",
    "    ans.append(counter)\n",
    "            \n",
    "print(sum(ans))"
   ]
  }
 ],
 "metadata": {
  "kernelspec": {
   "display_name": "Python 3",
   "language": "python",
   "name": "python3"
  },
  "language_info": {
   "codemirror_mode": {
    "name": "ipython",
    "version": 3
   },
   "file_extension": ".py",
   "mimetype": "text/x-python",
   "name": "python",
   "nbconvert_exporter": "python",
   "pygments_lexer": "ipython3",
   "version": "3.7.6"
  }
 },
 "nbformat": 4,
 "nbformat_minor": 4
}