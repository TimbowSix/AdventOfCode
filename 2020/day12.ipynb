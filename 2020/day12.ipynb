{
 "cells": [
  {
   "cell_type": "code",
   "execution_count": 1,
   "metadata": {},
   "outputs": [],
   "source": [
    "with open(\"input12.txt\", \"r\") as f:\n",
    "    file = f.read().splitlines()\n",
    "\n",
    "#print(file)"
   ]
  },
  {
   "cell_type": "code",
   "execution_count": 2,
   "metadata": {},
   "outputs": [
    {
     "name": "stdout",
     "output_type": "stream",
     "text": [
      "-743 576 1319\n"
     ]
    }
   ],
   "source": [
    "x = 0 #E/W\n",
    "y = 0 #N/S\n",
    "\n",
    "directions = [\"N\", \"E\", \"S\", \"W\"]\n",
    "facing = \"E\"\n",
    "\n",
    "def moveDirection(direction, count):\n",
    "    global x, y\n",
    "    if direction == \"N\":\n",
    "        y += count\n",
    "    elif direction == \"S\":\n",
    "        y -= count\n",
    "    elif direction == \"E\":\n",
    "        x += count\n",
    "    elif direction == \"W\":\n",
    "        x -= count\n",
    "\n",
    "for instr in file:\n",
    "    action = instr[0]\n",
    "    actionCount = int(instr[1:])\n",
    "    if action == \"R\":\n",
    "        turns = int(actionCount/90)\n",
    "        dir_ind = (directions.index(facing)+turns)%len(directions)\n",
    "        facing = directions[dir_ind]\n",
    "    elif action == \"L\":\n",
    "        turns = int(actionCount/90)\n",
    "        dir_ind = (directions.index(facing)-turns)\n",
    "        facing = directions[dir_ind]\n",
    "    elif action == \"F\":\n",
    "        moveDirection(facing, actionCount)\n",
    "    elif action in directions:\n",
    "        moveDirection(action, actionCount)\n",
    "\n",
    "\n",
    "print(x, y, abs(x)+abs(y))\n"
   ]
  },
  {
   "cell_type": "code",
   "execution_count": 11,
   "metadata": {},
   "outputs": [
    {
     "name": "stdout",
     "output_type": "stream",
     "text": [
      "-39392 23042 62434\n"
     ]
    }
   ],
   "source": [
    "waypointX = 10\n",
    "waypointXFacing = \"E\"\n",
    "waypointY = 1\n",
    "waypointYFacing = \"N\"\n",
    "\n",
    "shipX = 0\n",
    "shipY = 0\n",
    "\n",
    "directions = [\"N\", \"E\", \"S\", \"W\"]\n",
    "\n",
    "def moveShip(direction, count, multiplier):\n",
    "    global shipX, shipY\n",
    "    if direction == \"N\":\n",
    "        shipY += count*multiplier\n",
    "    elif direction == \"S\":\n",
    "        shipY -= count*multiplier\n",
    "    elif direction == \"E\":\n",
    "        shipX += count*multiplier\n",
    "    elif direction == \"W\":\n",
    "        shipX -= count*multiplier\n",
    "\n",
    "def moveWaypoint(direction, count):\n",
    "    global waypointX, waypointY, waypointXFacing, waypointYFacing\n",
    "    x = [\"E\", \"W\"]\n",
    "    y = [\"N\", \"S\"]\n",
    "    if (waypointXFacing in y and direction in y) or (waypointXFacing in x and direction in x):\n",
    "        if waypointXFacing == direction:\n",
    "            waypointX += count\n",
    "        else:\n",
    "            waypointX -= count\n",
    "    elif (waypointYFacing in y and direction in y) or (waypointYFacing in x and direction in x):\n",
    "        if waypointYFacing == direction:\n",
    "            waypointY += count\n",
    "        else:\n",
    "            waypointY -= count\n",
    "\n",
    "\n",
    "for cmd in file:\n",
    "    act = cmd[0]\n",
    "    actNr = int(cmd[1:])\n",
    "    if act == \"R\":\n",
    "        turns = int(actNr/90)\n",
    "        dir_ind = (directions.index(waypointXFacing)+turns)%len(directions)\n",
    "        waypointXFacing = directions[dir_ind]\n",
    "        dir_ind = (directions.index(waypointYFacing)+turns)%len(directions)\n",
    "        waypointYFacing = directions[dir_ind]\n",
    "    elif act == \"L\":\n",
    "        turns = int(actNr/90)\n",
    "        dir_ind = (directions.index(waypointXFacing)-turns)\n",
    "        waypointXFacing = directions[dir_ind]\n",
    "        dir_ind = (directions.index(waypointYFacing)-turns)\n",
    "        waypointYFacing = directions[dir_ind]\n",
    "    elif act == \"F\":\n",
    "        moveShip(waypointXFacing, waypointX, actNr)\n",
    "        moveShip(waypointYFacing, waypointY, actNr)\n",
    "    elif act in directions:\n",
    "        moveWaypoint(act, actNr)\n",
    "\n",
    "print(shipX, shipY, abs(shipX)+abs(shipY))"
   ]
  }
 ],
 "metadata": {
  "interpreter": {
   "hash": "24fd9af36ba45572b61bfbb845d12003a4380c574d58b3e71e127f2f0d7d6c1f"
  },
  "kernelspec": {
   "display_name": "Python 3.9.5 64-bit",
   "language": "python",
   "name": "python3"
  },
  "language_info": {
   "codemirror_mode": {
    "name": "ipython",
    "version": 3
   },
   "file_extension": ".py",
   "mimetype": "text/x-python",
   "name": "python",
   "nbconvert_exporter": "python",
   "pygments_lexer": "ipython3",
   "version": "3.9.5"
  },
  "orig_nbformat": 4
 },
 "nbformat": 4,
 "nbformat_minor": 2
}
