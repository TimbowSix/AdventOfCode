{
 "cells": [
  {
   "cell_type": "code",
   "execution_count": 50,
   "metadata": {
    "scrolled": false
   },
   "outputs": [
    {
     "name": "stdout",
     "output_type": "stream",
     "text": [
      "270\n"
     ]
    }
   ],
   "source": [
    "#1\n",
    "f = open(\"inputDay3.txt\",\"r\")\n",
    "file = []\n",
    "for i in f:\n",
    "    file.append(i.replace(\"\\n\",\"\")*100)\n",
    "f.close()\n",
    "\n",
    "def countTrees():\n",
    "    count = 0\n",
    "    x = 3\n",
    "    y = 1\n",
    "    while y<len(file):\n",
    "        slot = file[y][x]\n",
    "        if slot == \"#\":\n",
    "            count+=1\n",
    "        x+=3\n",
    "        y+=1\n",
    "    return count\n",
    "\n",
    "print(countTrees())"
   ]
  },
  {
   "cell_type": "code",
   "execution_count": 51,
   "metadata": {},
   "outputs": [
    {
     "name": "stdout",
     "output_type": "stream",
     "text": [
      "[80, 270, 60, 63, 26]\n",
      "2122848000\n"
     ]
    }
   ],
   "source": [
    "#2\n",
    "f = open(\"inputDay3.txt\",\"r\")\n",
    "file = []\n",
    "for i in f:\n",
    "    file.append(i.replace(\"\\n\",\"\")*100)\n",
    "f.close()\n",
    "\n",
    "def countTrees(right,down):\n",
    "    count = 0\n",
    "    x = right\n",
    "    y = down\n",
    "    while y<len(file):\n",
    "        slot = file[y][x]\n",
    "        if slot == \"#\":\n",
    "            count+=1\n",
    "        x+=right\n",
    "        y+=down\n",
    "    return count\n",
    "\n",
    "trees=[]\n",
    "for right, down in ((1,1),(3,1),(5,1),(7,1),(1,2)):\n",
    "    trees.append(countTrees(right,down))\n",
    "print(trees)\n",
    "number = 1\n",
    "for i in trees:\n",
    "    number*=i\n",
    "print(number)\n",
    "    \n",
    "\n",
    "# Right 1, down 1.\n",
    "# Right 3, down 1. (This is the slope you already checked.)\n",
    "# Right 5, down 1.\n",
    "# Right 7, down 1.\n",
    "# Right 1, down 2."
   ]
  }
 ],
 "metadata": {
  "kernelspec": {
   "display_name": "Python 3",
   "language": "python",
   "name": "python3"
  },
  "language_info": {
   "codemirror_mode": {
    "name": "ipython",
    "version": 3
   },
   "file_extension": ".py",
   "mimetype": "text/x-python",
   "name": "python",
   "nbconvert_exporter": "python",
   "pygments_lexer": "ipython3",
   "version": "3.7.6"
  }
 },
 "nbformat": 4,
 "nbformat_minor": 4
}
