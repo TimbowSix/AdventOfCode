{
 "cells": [
  {
   "cell_type": "code",
   "execution_count": 7,
   "metadata": {},
   "outputs": [],
   "source": [
    "with open(\"input11.txt\", \"r\") as f:\n",
    "    file = f.read().split(\"\\n\")\n",
    "\n",
    "file = [x for x in file if x != \"\"]\n",
    "#print(file)"
   ]
  },
  {
   "cell_type": "code",
   "execution_count": 20,
   "metadata": {},
   "outputs": [
    {
     "data": {
      "text/plain": [
       "2108"
      ]
     },
     "execution_count": 20,
     "metadata": {},
     "output_type": "execute_result"
    }
   ],
   "source": [
    "empty = \"L\"\n",
    "occupied = \"#\"\n",
    "floor = \".\"\n",
    "\n",
    "def countOccupied(seats, posX, posY):\n",
    "    occCount = 0\n",
    "    for y in range(-1, 2): #y\n",
    "        for x in range(-1, 2): #x\n",
    "            try:\n",
    "                if seats[posY+y][posX+x] == occupied and not (x == 0 == y) and posY+y >=0 and posX+x >= 0:\n",
    "                    occCount+=1\n",
    "            except IndexError:\n",
    "                continue\n",
    "    return occCount\n",
    "\n",
    "#print(countOccupied(test, 0, 0))\n",
    "\n",
    "def seating(seats):\n",
    "    prevSeats = []\n",
    "    while seats != prevSeats:\n",
    "        prevSeats = seats.copy()\n",
    "        newSeats = []\n",
    "        for lineIndex, line in enumerate(seats):\n",
    "            newLine = \"\"\n",
    "            for seatIndex, seat in enumerate(line):\n",
    "                occupiedCount = countOccupied(seats, seatIndex, lineIndex)\n",
    "                if seat == occupied and occupiedCount >= 4:\n",
    "                    newLine += empty\n",
    "                elif seat == empty and occupiedCount == 0:\n",
    "                    newLine += occupied\n",
    "                else:\n",
    "                    newLine += seat\n",
    "            newSeats.append(newLine)\n",
    "        seats = newSeats.copy()\n",
    "    #count seats\n",
    "    occupiedCount = 0\n",
    "    for line in seats:\n",
    "        for seat in line:\n",
    "            if seat == occupied:\n",
    "                occupiedCount += 1\n",
    "    return occupiedCount\n",
    "\n",
    "seating(file)\n",
    "\n"
   ]
  },
  {
   "cell_type": "code",
   "execution_count": 9,
   "metadata": {},
   "outputs": [
    {
     "name": "stdout",
     "output_type": "stream",
     "text": [
      "1897\n"
     ]
    }
   ],
   "source": [
    "empty = \"L\"\n",
    "occupied = \"#\"\n",
    "floor = \".\"\n",
    "\n",
    "def countOccupiedInSight(seats, posX, posY):\n",
    "    #upper left = -1/-1 #upper = 0/-1 #upper right = 1/-1\n",
    "    #middle left = -1/0 #middle = self # middle right = 1/0\n",
    "    #down left = -1/1 #down middle = 0/1 # down right = 1/1\n",
    "    coords = [(-1,-1), (0,-1), (1,-1), (-1,0), (1,0), (-1,1), (0,1), (1,1)]\n",
    "    occupiedSeats = 0\n",
    "    for coord in coords:\n",
    "        x = posX+coord[0]\n",
    "        y = posY+coord[1]\n",
    "        if x>=0 and y>=0 and y<len(seats) and x<len(seats[y]):\n",
    "            currentSeat = seats[y][x]\n",
    "        else:\n",
    "            continue\n",
    "        add = 0\n",
    "        while currentSeat == floor:\n",
    "            add+=1\n",
    "            x = posX+coord[0]*add\n",
    "            y = posY+coord[1]*add\n",
    "            if x>=0 and y>=0 and y<len(seats) and x<len(seats[y]):\n",
    "                currentSeat = seats[y][x]\n",
    "            else:\n",
    "                break\n",
    "        if currentSeat == occupied:\n",
    "            occupiedSeats += 1\n",
    "\n",
    "    return occupiedSeats\n",
    "\n",
    "def seatingNew(seats):\n",
    "    prevSeats = []\n",
    "    while seats != prevSeats:\n",
    "        prevSeats = seats.copy()\n",
    "        newSeats = []\n",
    "        for lineIndex, line in enumerate(seats):\n",
    "            newLine = \"\"\n",
    "            for seatIndex, seat in enumerate(line):\n",
    "                occupiedCount = countOccupiedInSight(seats, seatIndex, lineIndex)\n",
    "                if seat == occupied and occupiedCount >= 5:\n",
    "                    newLine += empty\n",
    "                elif seat == empty and occupiedCount == 0:\n",
    "                    newLine += occupied\n",
    "                else:\n",
    "                    newLine += seat\n",
    "            newSeats.append(newLine)\n",
    "        seats = newSeats.copy()\n",
    "    #count seats\n",
    "    occupiedCount = 0\n",
    "    for line in seats:\n",
    "        for seat in line:\n",
    "            if seat == occupied:\n",
    "                occupiedCount += 1\n",
    "    return occupiedCount\n",
    "\n",
    "print(seatingNew(file))"
   ]
  }
 ],
 "metadata": {
  "kernelspec": {
   "display_name": "Python 3.10.5 64-bit",
   "language": "python",
   "name": "python3"
  },
  "language_info": {
   "codemirror_mode": {
    "name": "ipython",
    "version": 3
   },
   "file_extension": ".py",
   "mimetype": "text/x-python",
   "name": "python",
   "nbconvert_exporter": "python",
   "pygments_lexer": "ipython3",
   "version": "3.10.5"
  },
  "orig_nbformat": 4,
  "vscode": {
   "interpreter": {
    "hash": "551231531f899c79f1e96a61bbd146bb460066b40b37baa34efbcbe9faaca3da"
   }
  }
 },
 "nbformat": 4,
 "nbformat_minor": 2
}
