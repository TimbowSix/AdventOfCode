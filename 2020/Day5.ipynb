{
 "cells": [
  {
   "cell_type": "code",
   "execution_count": 73,
   "metadata": {
    "scrolled": false
   },
   "outputs": [
    {
     "name": "stdout",
     "output_type": "stream",
     "text": [
      "highest: 861\n",
      "Your seat: 633\n"
     ]
    }
   ],
   "source": [
    "import math\n",
    "f = open(\"day5Olli.txt\",\"r\")\n",
    "file = []\n",
    "for i in f:\n",
    "    file.append(i.replace(\"\\n\",\"\"))\n",
    "f.close()\n",
    "def getRow(string):\n",
    "    maxRow = 127\n",
    "    minRow = 0\n",
    "    for c in string:\n",
    "        dif = maxRow-minRow\n",
    "        if c == \"F\":\n",
    "            maxRow = int(minRow+(dif/2))\n",
    "        else:\n",
    "            minRow = math.ceil(minRow+dif/2)\n",
    "    return maxRow\n",
    "      \n",
    "def getColumn(string):\n",
    "    maxCol = 7\n",
    "    minCol = 0\n",
    "    for c in string:\n",
    "        dif = maxCol-minCol\n",
    "        if c == \"L\":\n",
    "            maxCol = int(minCol+((maxCol-minCol)/2))\n",
    "        else:\n",
    "            minCol = math.ceil(minCol+dif/2)\n",
    "    return maxCol\n",
    "\n",
    "seats = []\n",
    "highest = 0\n",
    "for s in file:\n",
    "    number = getRow(s[:7])*8+getColumn(s[7:])\n",
    "    seats.append(number)\n",
    "    if number > highest:\n",
    "        highest = number\n",
    "print(\"highest:\",highest)\n",
    "seats.sort()\n",
    "last = seats[0]\n",
    "for i in seats:\n",
    "    if i-last > 1:\n",
    "        print(\"Your seat:\",i-1)\n",
    "    last = i"
   ]
  },
  {
   "cell_type": "code",
   "execution_count": null,
   "metadata": {},
   "outputs": [],
   "source": [
    "# For example, consider just the first seven characters of FBFBBFFRLR:\n",
    "\n",
    "# Start by considering the whole range, rows 0 through 127.\n",
    "# F means to take the lower half, keeping rows 0 through 63.\n",
    "# B means to take the upper half, keeping rows 32 through 63.\n",
    "# F means to take the lower half, keeping rows 32 through 47.\n",
    "# B means to take the upper half, keeping rows 40 through 47.\n",
    "# B keeps rows 44 through 47.\n",
    "# F keeps rows 44 through 45.\n",
    "# The final F keeps the lower of the two, row 44."
   ]
  }
 ],
 "metadata": {
  "kernelspec": {
   "display_name": "Python 3",
   "language": "python",
   "name": "python3"
  },
  "language_info": {
   "codemirror_mode": {
    "name": "ipython",
    "version": 3
   },
   "file_extension": ".py",
   "mimetype": "text/x-python",
   "name": "python",
   "nbconvert_exporter": "python",
   "pygments_lexer": "ipython3",
   "version": "3.7.6"
  }
 },
 "nbformat": 4,
 "nbformat_minor": 4
}
