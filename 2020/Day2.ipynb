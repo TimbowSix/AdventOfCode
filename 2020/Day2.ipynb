{
 "cells": [
  {
   "cell_type": "code",
   "execution_count": 5,
   "metadata": {},
   "outputs": [
    {
     "name": "stdout",
     "output_type": "stream",
     "text": [
      "398\n"
     ]
    }
   ],
   "source": [
    "f = open(\"inputDay2.txt\",\"r\")\n",
    "file = []\n",
    "for i in f:\n",
    "    string = i.replace(\"-\",\" \").replace(\":\",\" \").split()\n",
    "    file.append(string)\n",
    "f.close()   \n",
    "def isValid(pw):\n",
    "    minChar = int(pw[0])\n",
    "    maxChar = int(pw[1])\n",
    "    char = pw[2]\n",
    "    string = pw[3]\n",
    "    occ = 0\n",
    "    for i in string:\n",
    "        if i == char:\n",
    "            occ += 1\n",
    "    if (occ >=minChar) and (occ<=maxChar):\n",
    "        return True\n",
    "    else:\n",
    "        return False \n",
    "valids = 0  \n",
    "for i in file:\n",
    "    if isValid(i):\n",
    "        valids +=1\n",
    "print(valids)"
   ]
  },
  {
   "cell_type": "code",
   "execution_count": 10,
   "metadata": {},
   "outputs": [
    {
     "name": "stdout",
     "output_type": "stream",
     "text": [
      "562\n"
     ]
    }
   ],
   "source": [
    "f = open(\"inputDay2.txt\",\"r\")\n",
    "file = []\n",
    "for i in f:\n",
    "    string = i.replace(\"-\",\" \").replace(\":\",\" \").split()\n",
    "    file.append(string)\n",
    "f.close()\n",
    "\n",
    "def isValid(pw):\n",
    "    pos1 = int(pw[0])-1\n",
    "    pos2 = int(pw[1])-1\n",
    "    char = pw[2]\n",
    "    string = pw[3]\n",
    "    if string[pos1]==char and not string[pos2] == char:\n",
    "        return True\n",
    "    elif string[pos2]==char and not string[pos1] == char:\n",
    "        return True\n",
    "    else:\n",
    "        return False\n",
    "\n",
    "valids = 0\n",
    "for i in file:\n",
    "    if isValid(i):\n",
    "        valids+=1\n",
    "print(valids)"
   ]
  },
  {
   "cell_type": "code",
   "execution_count": null,
   "metadata": {},
   "outputs": [],
   "source": [
    "import time\n",
    "start_time = time.time()\n",
    "############\n",
    "for i in range(1000):\n",
    "    print(1+1)\n",
    "############\n",
    "print(\"--- %s seconds ---\" % (time.time() - start_time))"
   ]
  }
 ],
 "metadata": {
  "kernelspec": {
   "display_name": "Python 3",
   "language": "python",
   "name": "python3"
  },
  "language_info": {
   "codemirror_mode": {
    "name": "ipython",
    "version": 3
   },
   "file_extension": ".py",
   "mimetype": "text/x-python",
   "name": "python",
   "nbconvert_exporter": "python",
   "pygments_lexer": "ipython3",
   "version": "3.7.6"
  }
 },
 "nbformat": 4,
 "nbformat_minor": 4
}
