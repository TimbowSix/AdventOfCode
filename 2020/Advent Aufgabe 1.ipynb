{
 "cells": [
  {
   "cell_type": "code",
   "execution_count": 10,
   "metadata": {},
   "outputs": [
    {
     "name": "stdout",
     "output_type": "stream",
     "text": [
      "Sum of numbers: 631 and 1389 is 2020\n",
      "Therefore the code is 876459\n",
      "Sum of numbers: 1389 and 631 is 2020\n",
      "Therefore the code is 876459\n"
     ]
    }
   ],
   "source": [
    "f = open(\"input.txt\",\"r\")\n",
    "numbers = []\n",
    "for i in f:\n",
    "    numbers.append(int(i))\n",
    "    \n",
    "for i in numbers:\n",
    "    for j in numbers:\n",
    "        if i+j==2020:\n",
    "            print(\"Sum of numbers:\",i,\"and\",j,\"is\",i+j)\n",
    "            print(\"Therefore the code is\",i*j)\n",
    "        #print(i+j)"
   ]
  },
  {
   "cell_type": "code",
   "execution_count": 5,
   "metadata": {},
   "outputs": [
    {
     "name": "stdout",
     "output_type": "stream",
     "text": [
      "Sum of numbers: 708 and 140 and 1172 is 2020\n",
      "Therefore the code is 116168640\n"
     ]
    }
   ],
   "source": [
    "f = open(\"input.txt\",\"r\")\n",
    "numbers = []\n",
    "for i in f:\n",
    "    numbers.append(int(i))\n",
    "def calc(numbers): \n",
    "    for i in numbers:\n",
    "        for j in numbers:\n",
    "            for n in numbers:\n",
    "                if i+j+n==2020:\n",
    "                    print(\"Sum of numbers:\",i,\"and\",j,\"and\",n,\"is\",i+j+n)\n",
    "                    print(\"Therefore the code is\",i*j*n)\n",
    "                    return\n",
    "calc(numbers)"
   ]
  }
 ],
 "metadata": {
  "kernelspec": {
   "display_name": "Python 3",
   "language": "python",
   "name": "python3"
  },
  "language_info": {
   "codemirror_mode": {
    "name": "ipython",
    "version": 3
   },
   "file_extension": ".py",
   "mimetype": "text/x-python",
   "name": "python",
   "nbconvert_exporter": "python",
   "pygments_lexer": "ipython3",
   "version": "3.7.6"
  }
 },
 "nbformat": 4,
 "nbformat_minor": 4
}
